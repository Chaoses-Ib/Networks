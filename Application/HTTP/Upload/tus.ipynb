{
 "cells": [
  {
   "cell_type": "code",
   "execution_count": null,
   "metadata": {},
   "outputs": [],
   "source": [
    "!pip install tuspy"
   ]
  },
  {
   "cell_type": "code",
   "execution_count": 24,
   "metadata": {},
   "outputs": [],
   "source": [
    "from tusclient import client\n",
    "\n",
    "# Set Authorization headers if it is required\n",
    "# by the tus server.\n",
    "my_client = client.TusClient('http://localhost:8080/files/',\n",
    "                              headers={'Authorization': 'Basic xxyyZZAAbbCC='})\n",
    "\n",
    "uploader = my_client.uploader('REST.md', chunk_size=200)\n",
    "\n",
    "uploader.upload()"
   ]
  },
  {
   "cell_type": "code",
   "execution_count": 7,
   "metadata": {},
   "outputs": [
    {
     "data": {
      "text/plain": [
       "'http://127.0.0.1:8080/files/45ffc10e6b69e66990eb36867abcf164'"
      ]
     },
     "execution_count": 7,
     "metadata": {},
     "output_type": "execute_result"
    }
   ],
   "source": [
    "uploader.url"
   ]
  },
  {
   "cell_type": "code",
   "execution_count": 8,
   "metadata": {},
   "outputs": [],
   "source": [
    "from tusclient import client\n",
    "\n",
    "# Set Authorization headers if it is required\n",
    "# by the tus server.\n",
    "my_client = client.TusClient('http://localhost:8080/files/',\n",
    "                              headers={'Authorization': 'Basic xxyyZZAAbbCC='})\n",
    "\n",
    "# Set more headers.\n",
    "my_client.set_headers({'HEADER_NAME': 'HEADER_VALUE'})\n",
    "\n",
    "uploader = my_client.uploader('REST.md', chunk_size=200)\n",
    "\n",
    "# A file stream may also be passed in place of a file path.\n",
    "fs = open('REST.md', mode='rb')\n",
    "uploader = my_client.uploader(file_stream=fs, chunk_size=200)\n",
    "\n",
    "# Upload a chunk i.e 200 bytes.\n",
    "uploader.upload_chunk()\n",
    "\n",
    "# Uploads the entire file.\n",
    "# This uploads chunk by chunk.\n",
    "uploader.upload()\n",
    "\n",
    "# you could increase the chunk size to reduce the\n",
    "# number of upload_chunk cycles.\n",
    "uploader.chunk_size = 800\n",
    "uploader.upload()\n",
    "\n",
    "# Continue uploading chunks till total chunks uploaded reaches 1000 bytes.\n",
    "# uploader.upload(stop_at=1000)"
   ]
  }
 ],
 "metadata": {
  "kernelspec": {
   "display_name": "base",
   "language": "python",
   "name": "python3"
  },
  "language_info": {
   "codemirror_mode": {
    "name": "ipython",
    "version": 3
   },
   "file_extension": ".py",
   "mimetype": "text/x-python",
   "name": "python",
   "nbconvert_exporter": "python",
   "pygments_lexer": "ipython3",
   "version": "3.9.1"
  }
 },
 "nbformat": 4,
 "nbformat_minor": 2
}
